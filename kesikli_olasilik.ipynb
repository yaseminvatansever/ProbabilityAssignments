{
  "nbformat": 4,
  "nbformat_minor": 0,
  "metadata": {
    "colab": {
      "name": "kesikli_olasilik.ipynb",
      "provenance": [],
      "collapsed_sections": [],
      "authorship_tag": "ABX9TyM9fA9pjHW40B+KnKDD2V/2",
      "include_colab_link": true
    },
    "kernelspec": {
      "name": "python3",
      "display_name": "Python 3"
    },
    "language_info": {
      "name": "python"
    }
  },
  "cells": [
    {
      "cell_type": "markdown",
      "metadata": {
        "id": "view-in-github",
        "colab_type": "text"
      },
      "source": [
        "<a href=\"https://colab.research.google.com/github/yaseminvatansever/ProbabilityAssignments/blob/main/kesikli_olasilik.ipynb\" target=\"_parent\"><img src=\"https://colab.research.google.com/assets/colab-badge.svg\" alt=\"Open In Colab\"/></a>"
      ]
    },
    {
      "cell_type": "markdown",
      "source": [
        "# Kesikli Olasılık Örnek:\n",
        "\n",
        "Bir Otomobil bayisinin günlük araba satışlarının dağılımı aşağıda verilmiştir.\n",
        "\n",
        " X | 0 | 1 | 2 | 3 | 4 | 5 | 6 | 7 | 8 |\n",
        "---|---|---|---|---|---|---|---|---|---|\n",
        "P(X)|0.02|0.08|0.15|0.19|0.24|0.17|0.10|0.04|0.01|\n",
        "\n",
        "Bu dağılışa göre bayinin 5 ten fazla araba satma olasılığı nedir?"
      ],
      "metadata": {
        "id": "u14nrWeYZDfa"
      }
    },
    {
      "cell_type": "markdown",
      "source": [
        "## Çözüm: \n",
        "P(X>5) = P(6) + P(7) + P(8)"
      ],
      "metadata": {
        "id": "sWdsOyaIbVSH"
      }
    },
    {
      "cell_type": "code",
      "execution_count": 7,
      "metadata": {
        "colab": {
          "base_uri": "https://localhost:8080/"
        },
        "id": "uN5JFoemW3OB",
        "outputId": "836d08b8-e3c9-4f54-a3b0-c3dbcd59cd0a"
      },
      "outputs": [
        {
          "output_type": "stream",
          "name": "stdout",
          "text": [
            "0.15000000000000002\n"
          ]
        }
      ],
      "source": [
        "P = [0.02, 0.08, 0.15, 0.19, 0.24, 0.17, 0.10, 0.04, 0.01]\n",
        "\n",
        "def sum_probabilities(start, end):\n",
        "  sum = 0\n",
        "  for i in range(start,end+1):\n",
        "    sum = sum + P[i]\n",
        "  return sum\n",
        "  \n",
        "\n",
        "s = sum_probabilities(6,8)\n",
        "print(s)"
      ]
    },
    {
      "cell_type": "code",
      "source": [
        ""
      ],
      "metadata": {
        "id": "4z0hoH7Ac8-u"
      },
      "execution_count": null,
      "outputs": []
    }
  ]
}