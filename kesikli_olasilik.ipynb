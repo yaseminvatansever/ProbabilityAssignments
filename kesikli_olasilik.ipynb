{
  "nbformat": 4,
  "nbformat_minor": 0,
  "metadata": {
    "colab": {
      "name": "kesikli_olasilik.ipynb",
      "provenance": [],
      "collapsed_sections": [],
      "authorship_tag": "ABX9TyPDKjcREW2OHgRCrUjOlpj9",
      "include_colab_link": true
    },
    "kernelspec": {
      "name": "python3",
      "display_name": "Python 3"
    },
    "language_info": {
      "name": "python"
    }
  },
  "cells": [
    {
      "cell_type": "markdown",
      "metadata": {
        "id": "view-in-github",
        "colab_type": "text"
      },
      "source": [
        "<a href=\"https://colab.research.google.com/github/yaseminvatansever/ProbabilityAssignments/blob/main/kesikli_olasilik.ipynb\" target=\"_parent\"><img src=\"https://colab.research.google.com/assets/colab-badge.svg\" alt=\"Open In Colab\"/></a>"
      ]
    },
    {
      "cell_type": "markdown",
      "source": [
        "# Kesikli Olasılık Örnek:\n",
        "\n",
        "Bir Otomobil bayisinin günlük araba satışlarının dağılımı aşağıda verilmiştir.\n",
        "\n",
        " X | 0 | 1 | 2 | 3 | 4 | 5 | 6 | 7 | 8 |\n",
        "---|---|---|---|---|---|---|---|---|---|\n",
        "P(X)|0.02|0.08|0.15|0.19|0.24|0.17|0.10|0.04|0.01|\n",
        "\n",
        "Bu dağılışa göre:\n",
        "\n",
        "a) bayinin 5 ten fazla araba satma olasılığı nedir?\n",
        "\n",
        "b) Satışların beklenen değeri nedir?\n",
        "\n",
        "c) Satışların varyansı nedir?"
      ],
      "metadata": {
        "id": "u14nrWeYZDfa"
      }
    },
    {
      "cell_type": "markdown",
      "source": [
        "## A'nın Çözümü: \n",
        "P(X>5) = P(6) + P(7) + P(8)"
      ],
      "metadata": {
        "id": "sWdsOyaIbVSH"
      }
    },
    {
      "cell_type": "code",
      "execution_count": 13,
      "metadata": {
        "colab": {
          "base_uri": "https://localhost:8080/"
        },
        "id": "uN5JFoemW3OB",
        "outputId": "6642920d-b893-43a1-fbd9-935e5912aa53"
      },
      "outputs": [
        {
          "output_type": "stream",
          "name": "stdout",
          "text": [
            "0.15000000000000002\n"
          ]
        }
      ],
      "source": [
        "P = [0.02, 0.08, 0.15, 0.19, 0.24, 0.17, 0.10, 0.04, 0.01]\n",
        "\n",
        "def sum_probabilities(start, end):\n",
        "  sum = 0\n",
        "  for i in range(start,end+1):\n",
        "    sum = sum + P[i]\n",
        "  return sum\n",
        "  \n",
        "\n",
        "s = sum_probabilities(6,8)\n",
        "print(s)"
      ]
    },
    {
      "cell_type": "markdown",
      "source": [
        "## B'nin Çözümü:\n",
        "\n",
        "$E(X) = \\sum X*P(X_{i})$  \n",
        "$E(X) = 0*0.02 + 1*0.08 + ... + 8*0.01$ "
      ],
      "metadata": {
        "id": "C1DgpcZsiMGV"
      }
    },
    {
      "cell_type": "code",
      "source": [
        "def beklenen_deger(P):\n",
        "  expected = 0\n",
        "  for count, value in enumerate(P):\n",
        "    expected = expected + count*value\n",
        "  return expected\n",
        "\n",
        "e = beklenen_deger(P)\n",
        "print(\"beklenen değer: \" + str(e))"
      ],
      "metadata": {
        "colab": {
          "base_uri": "https://localhost:8080/"
        },
        "id": "4z0hoH7Ac8-u",
        "outputId": "23645613-da23-4273-9699-b9bb1ecd756d"
      },
      "execution_count": 14,
      "outputs": [
        {
          "output_type": "stream",
          "name": "stdout",
          "text": [
            "beklenen değer: 3.7200000000000006\n"
          ]
        }
      ]
    },
    {
      "cell_type": "markdown",
      "source": [
        "## C'nin Çözümü:\n",
        "\n",
        "Varyans = $E(X^2) - [E(X)]^2$  "
      ],
      "metadata": {
        "id": "43e4H9SjmYRR"
      }
    },
    {
      "cell_type": "code",
      "source": [
        "def varyans(P):\n",
        "  ex2 = 0\n",
        "  for count, value in enumerate(P):\n",
        "    ex2 = ex2 + count*count*value\n",
        "  varyans = ex2 - e*e\n",
        "  return varyans\n",
        "\n",
        "v = varyans(P)\n",
        "print(\"varyans: \" + str(v))"
      ],
      "metadata": {
        "colab": {
          "base_uri": "https://localhost:8080/"
        },
        "id": "lrSNCq0emFpY",
        "outputId": "2e53952f-18aa-4c67-8c81-e1ac84592a86"
      },
      "execution_count": 15,
      "outputs": [
        {
          "output_type": "stream",
          "name": "stdout",
          "text": [
            "varyans: 2.8415999999999944\n"
          ]
        }
      ]
    },
    {
      "cell_type": "markdown",
      "source": [
        "*kaynak : http://www.mehmetaksarayli.com/istatistik/b66_kesikli.pdf*"
      ],
      "metadata": {
        "id": "AL9yjA9tqO4_"
      }
    },
    {
      "cell_type": "code",
      "source": [
        ""
      ],
      "metadata": {
        "id": "KFjZOwV2qWIF"
      },
      "execution_count": null,
      "outputs": []
    }
  ]
}