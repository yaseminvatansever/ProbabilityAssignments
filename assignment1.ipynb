{
 "cells": [
  {
   "cell_type": "code",
   "execution_count": 55,
   "metadata": {},
   "outputs": [],
   "source": [
    "import itertools"
   ]
  },
  {
   "cell_type": "markdown",
   "metadata": {},
   "source": [
    "## Soru 1: \n",
    "\n",
    "Aynı düzlemde bulunan farklı 6 çember en fazla kaç noktada kesişir?"
   ]
  },
  {
   "cell_type": "code",
   "execution_count": 58,
   "metadata": {},
   "outputs": [
    {
     "name": "stdout",
     "output_type": "stream",
     "text": [
      "('çember1', 'çember2') 2 noktada\n",
      "('çember1', 'çember3') 2 noktada\n",
      "('çember1', 'çember4') 2 noktada\n",
      "('çember1', 'çember5') 2 noktada\n",
      "('çember1', 'çember6') 2 noktada\n",
      "('çember2', 'çember3') 2 noktada\n",
      "('çember2', 'çember4') 2 noktada\n",
      "('çember2', 'çember5') 2 noktada\n",
      "('çember2', 'çember6') 2 noktada\n",
      "('çember3', 'çember4') 2 noktada\n",
      "('çember3', 'çember5') 2 noktada\n",
      "('çember3', 'çember6') 2 noktada\n",
      "('çember4', 'çember5') 2 noktada\n",
      "('çember4', 'çember6') 2 noktada\n",
      "('çember5', 'çember6') 2 noktada\n",
      "6 çember en fazla 30 noktada kesişir.\n"
     ]
    }
   ],
   "source": [
    "cember_sayisi= 6\n",
    "\n",
    "#iki çember seçilir ve bu iki çember max iki noktada kesişebilir\n",
    "cemberler = [\"çember1\", \"çember2\", \"çember3\", \"çember4\", \"çember5\", \"çember6\"]\n",
    "\n",
    "comb = itertools.combinations(cemberler,2)\n",
    "comb = list(comb)\n",
    "\n",
    "# list combinations\n",
    "for i in comb:\n",
    "    print(str(i) + \" 2 noktada\")\n",
    "\n",
    "nokta_sayisi = len(comb)*2  \n",
    "print(\"6 çember en fazla \" + str(int(nokta_sayisi)) + \" noktada kesişir.\")"
   ]
  },
  {
   "cell_type": "markdown",
   "metadata": {},
   "source": [
    "# Soru 2: \n",
    "\n",
    "Anne, baba ve 3 çocuktan oluşan bir aile yatay bir sıra boyunca, anne başta ve baba sonda olmak şartıyla kaç farklı biçimde oturabilirler?"
   ]
  },
  {
   "cell_type": "code",
   "execution_count": 59,
   "metadata": {},
   "outputs": [
    {
     "name": "stdout",
     "output_type": "stream",
     "text": [
      "Anne ('çocuk1', 'çocuk2', 'çocuk3') Baba\n",
      "Anne ('çocuk1', 'çocuk3', 'çocuk2') Baba\n",
      "Anne ('çocuk2', 'çocuk1', 'çocuk3') Baba\n",
      "Anne ('çocuk2', 'çocuk3', 'çocuk1') Baba\n",
      "Anne ('çocuk3', 'çocuk1', 'çocuk2') Baba\n",
      "Anne ('çocuk3', 'çocuk2', 'çocuk1') Baba\n",
      "Anne başta ve baba sonda olmak şartıyla 6 farklı biçimde oturabilirler.\n"
     ]
    }
   ],
   "source": [
    "# anne ve babanın yerleri sabit: A _ _ _ B\n",
    "# çocuklar kendi aralarında p(3,3) şeklinde sıralanır: p(3,3)=3!\n",
    "\n",
    "kids = [\"çocuk1\",\"çocuk2\",\"çocuk3\"]\n",
    "perm = itertools.permutations(kids,3)\n",
    "perm = list(perm)\n",
    "\n",
    "#list permutations\n",
    "for i in perm:\n",
    "    print (\"Anne \" + str(i) + \" Baba\")\n",
    "\n",
    "farkli_oturma = 1*len(perm)*1\n",
    "print(\"Anne başta ve baba sonda olmak şartıyla \" + str(int(farkli_oturma)) + \" farklı biçimde oturabilirler.\")"
   ]
  },
  {
   "cell_type": "code",
   "execution_count": null,
   "metadata": {},
   "outputs": [],
   "source": []
  }
 ],
 "metadata": {
  "interpreter": {
   "hash": "79aef8a0412c070c4a9ac8ca62c344059f8c43fdc1375a63b1cceaefa130f451"
  },
  "kernelspec": {
   "display_name": "Python 3.9.7 64-bit",
   "language": "python",
   "name": "python3"
  },
  "language_info": {
   "codemirror_mode": {
    "name": "ipython",
    "version": 3
   },
   "file_extension": ".py",
   "mimetype": "text/x-python",
   "name": "python",
   "nbconvert_exporter": "python",
   "pygments_lexer": "ipython3",
   "version": "3.9.7"
  },
  "orig_nbformat": 4
 },
 "nbformat": 4,
 "nbformat_minor": 2
}
