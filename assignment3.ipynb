{
  "nbformat": 4,
  "nbformat_minor": 0,
  "metadata": {
    "colab": {
      "name": "assignment3.ipynb",
      "provenance": [],
      "collapsed_sections": [],
      "authorship_tag": "ABX9TyPPTAaNvNAvaRcuo8YTw0uq",
      "include_colab_link": true
    },
    "kernelspec": {
      "name": "python3",
      "display_name": "Python 3"
    },
    "language_info": {
      "name": "python"
    }
  },
  "cells": [
    {
      "cell_type": "markdown",
      "metadata": {
        "id": "view-in-github",
        "colab_type": "text"
      },
      "source": [
        "<a href=\"https://colab.research.google.com/github/yaseminvatansever/ProbabilityAssignments/blob/main/assignment3.ipynb\" target=\"_parent\"><img src=\"https://colab.research.google.com/assets/colab-badge.svg\" alt=\"Open In Colab\"/></a>"
      ]
    },
    {
      "cell_type": "markdown",
      "source": [
        "## Koşullu Olasılık\n",
        "\n",
        "Bir E örnek uzayına ait A ve B olayları için; A olayının olma olasılığı B olayının gerçekleşmiş olmasına bağlı ise buna koşullu olasılık denir.\n",
        "\n",
        "A olayının B koşullu olasılığı:\n",
        "\n",
        "![Screenshot 2022-04-25 131408.png](data:image/png;base64,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)\n"
      ],
      "metadata": {
        "id": "6t9qkHwZKv3x"
      }
    },
    {
      "cell_type": "markdown",
      "source": [
        "**Soru:** 32 kişilik bir sınıfın 13 ü erkektir. Erkeklerin 2 si kızların 3 ü sarışındır. Sınıftan rastgele seçilen bir öğrencinin kız olduğu bilindiğine göre, sarışın olma olasılığı kaçtır?\n",
        "\n",
        "* Kızların sayısı s(A) = 32-13 = 19\n",
        "* Sarışınlar s(B) = 2 + 3 = 5\n",
        "* Sarışın kızların sayısı =s($A \\cap B$) = 3\n",
        "* P(B\\A) = s($A \\cap B$) / s($B$) = 3/19"
      ],
      "metadata": {
        "id": "fWGTdnk2OVDi"
      }
    },
    {
      "cell_type": "code",
      "execution_count": 5,
      "metadata": {
        "colab": {
          "base_uri": "https://localhost:8080/"
        },
        "id": "_Yoovf4QCRr_",
        "outputId": "67ee969a-31c3-4f4c-d21b-729f6a37dd12"
      },
      "outputs": [
        {
          "output_type": "stream",
          "name": "stdout",
          "text": [
            "öğrencinin kız olduğu bilindiğine göre, sarışın olma olasılığı = 0.15789473684210525\n"
          ]
        }
      ],
      "source": [
        "sA = 19 #kızların sayısı\n",
        "sB = 5 #sarışınların sayısı\n",
        "sAnB = 3 #sarışın kızların sayısı\n",
        "\n",
        "# A koşullu B nin olasılığı:\n",
        "pBkA = sAnB / sA\n",
        "\n",
        "print(\"öğrencinin kız olduğu bilindiğine göre, sarışın olma olasılığı = \" + str(pBkA))"
      ]
    },
    {
      "cell_type": "markdown",
      "source": [
        "## Bayes Teoremi"
      ],
      "metadata": {
        "id": "VB6f1_LeRkBc"
      }
    },
    {
      "cell_type": "markdown",
      "source": [
        "**Soru:** 12 çocuktan 5 i erkek 7 si kızdır. Erkeklerin 3 ü kızların 5 i saklambaç oynamak istiyor. Bu 12 çocuktan rastgele biri seçildiğinde **saklambaç oynamak istemediği bilindiğine göre** bu çocuğun kız olma olasılığı kaçtır ? "
      ],
      "metadata": {
        "id": "f3zS2w8HeUMO"
      }
    },
    {
      "cell_type": "markdown",
      "source": [
        "![image.png](data:image/png;base64,iVBORw0KGgoAAAANSUhEUgAAAZUAAACLCAYAAACp8ARkAAAAAXNSR0IArs4c6QAAAARnQU1BAACxjwv8YQUAAAAJcEhZcwAADsMAAA7DAcdvqGQAACUpSURBVHhe7Z0FuBRHEsf7kGDBJbhDIEDQgxwQ/JCEEOxwAgke3IMGC8F5j+CE4PKCO0GCBHfnCO7ubjc3/6J7mLc828fs7uxu/b6vv5npmd2dnenu6q6uqv6HpiMYhmEYxgKiyC3DMAzDvDcsVBiGYRjLYKHCMAzDWAYLFYZhGMYyWKgwDMMwlsFChWEYhrEMFioMwzCMZbBQYRiGYSyDhQrDMAxjGSxUGIZhGMtgocIwDMNYBgsVhmEYxjJYqDAMwzCWwUKFYRiGsQwWKgzDMIxlsFBhGIZhLIOFCsMwDGMZLFQYhmEYy/CL5YRfvHgh/vGPf9B+1KhRRZQoUcStW7fE2bNnxdGjR8UHH3wgYsSIIfLmzSsyZsxI1zEMwzDO49NCZc2aNWL27Nli+vTpMucN6dOnF+fOnZNHb8mXL5/Ys2ePPGIYxkpevXolbt68KU6fPk3bhw8fiqdPn4pTp06J//3vf+L27dsCzdGTJ0/E48ePRfbs2cXw4cPlpxlvwSeFyv3790X79u3F1KlTqZA6gw/LWIbxCEFBQeKPP/6g+hgSYdW5OXPmiFq1asmjyHH9+nVx6dIlkT9/fpnDuBKfEypQZ9WuXVscPnxYxIkTh3o8IVG9enVSd3366aciU6ZMIlu2bJSv1GSe4J///CdVvBw5csgc1/Ds2TMRO3ZssX37dlGoUCGZyzDW06VLFzFs2LB3BAfq3EcffUT7//rXv2ikEi9ePKp/WbJkIS3DtGnTqD40aNCAross6h6eP38uokePLnNdw19//SW2bt1K7U+ePHlE586d5Rk/AkLFV1i0aJGmF0qUXq1hw4bamTNntFWrVmlDhgzR9EKlnT9/Xrt165b2559/anohlp+yBzdu3KD71nt0Msd1XL58mX5r+fLlModhXEP//v219OnTa71796ayvW/fPqqDqH8hJQXqL8qoLlRkTuRp3749fdfTp09ljvVMnjxZ0zup1P6oNgjb1atXyyv8B5+x/tIFiKhatSr1iBImTCgSJEgg9u7dK8qXL0+9hY4dO4q0adOKxIkTi5IlS3p0RBISakT16NEj2roSGC4A9NwYxpX07NmT6mafPn1E2bJlSTuAOoj6F1JyBZijAa4q7/PnzxeNGzcW+/fvp/YHCaMUbHfs2CGv8h98Rqhg0g8vEdy9e1cEBASIGjVqiGTJkpGax+5gwtK8dSVKqLx8+ZK2DONKIiMwVF22Aqh7gSvK+9WrV6mdUfc7duxYcfLkSZEmTRo6fvDgAW39CZ8RKrlz5ya9LKy60DP66aef6EXDyqRIkSLiwoUL8kp7ohp6VQFcCaxwgPpNhrEbsAQDcePGpe37AHcB4Io2YOnSpdTOFChQQGzatEm0aNFCZM6c2RCirhp92Rmfcn7EC0yXLp3IkCGD6N69O/miYJIPL71y5cryKnuihubuGKkooeIOAcYwkWH58uW0hVnx+6K+4++//6atlSj11i+//CKKFStG+wC+cICFio8B3e2IESNoH/rOGTNm0L47WbJkCZk3Y4hcoUIF0aZNG7Fw4UJ59i1KqLijoYefDti3bx9tFfXq1ROTJ0+WRwzjGQ4dOiT3hPj444/lXuSBpRk4cOAAbc3AWuvbb78V0aJFE926dZO5b4BrAtTnGzdulDnvgnlcWJd99tlnMucNStWmhIs/4fP/OFGiRKTnBErARBY0/GvXrhWVKlUiR8lcuXJRocfxyJEjxZEjR+SVbxg8eLCoUqUKze/MmzdPrF69mno0MGf+4osvgjXqShUVkkqqb9++5MRpFbFixaLtjRs3aAtWrVolZs2aRRWJYTwJGnqAEYYVjXLMmDFpi/kPBfxfUHeLFy9OZss1a9YkFZaZzZs3k/oc6vTQ+Oqrr8SgQYPk0VuUIFICza/Q/AC9908mfkinTp2Suc4xd+5cLUOGDIa5oGNCPpLi6NGjwa5Nnjy5Vq5cOa1Vq1ZkLlmqVClNrzRkXglgbonr+vTpQ8eKJk2aUP6ECRNkTnB0Iae1a9dOa9mypfbdd99ptWrV0vTREJlNh4Xes9Jix45N+3fu3NHix4+v6RVAe/36NeUxjKvQOy5kWoyyO27cOKoPJUuWNOqQud6UKFFCfirybN++nb5L7wRSWW/QoIHxG/roRDt58mQwc2bF0KFD6RrUfWfYunWrcf/4bX/DL4QKKFasGL1kvYcicyKOPlIwCiGEAhrsK1euaBcvXtTOnTunbdu2zShE2AdBQUFGHnxkzLb45qSAPw2u7dWrFx1fv36dKhryRo0aRXlmcD0EA+7rgw8+IKEVJ04c4zeRj0oRGpUrV6brbt++raVIkYL2161bJ88yjPWMHTtWK1OmDJVNc1Jl1jHFixePtpcuXZLfEHnUd6KuYFu2bFkSbOY66Ig+eqFrt2zZInNCZ//+/VpAQIBWp04d4z/poywtW7ZsWuvWrcmPZefOnfJq38ZvhApeLF40BIQzLFiwgApJvnz5tL17975TCK9du6ZVqVKFvhvpwoULlG8WKsOHD6e8sFi6dCld27VrV3LSLFSoEB3DcdMRVAbcEwTlhg0bggkpjMpQCfBZXKMP3+WngtO2bVu6RgnbwMBAeYZhrAcCJTQBgoa+cOHC1GGbOXOmUfYHDBgQZqPvDFGjRjV+D9+LOhYeOXPmpOtR78Ni8eLF9N9C+39I6nzRokWprvsyfiNU0IvAy4WqKKKgQU6SJAl9TvUyMDpBIVu2bBmpnMwFacaMGXQNcFaorF+/nq5FxSpQoADto/CHBAp72rRptXv37smc4Jw4ccL47cOHD8vc4CxcuNC4pmPHjjKXYVwDypgqb/Xq1aNODBpXdIDQEVKdIpAwYUK6Dh06K3j8+LGWLFky+s5vvvlG5oZPxowZ6TM7duyQOSGjRlTmBNUyNAlVq1bVSpcuTSO04sWLazly5KD8Bw8eyE/7Hn4jVObPn08v+8svv5Q54bNp0yb6zMCBA+l4yZIlRo/DLEyQZs+eTdcodu/ebZzDkDg8EM4B1yKkBbY//PCDPBMczK3gfEjCArrqiRMnGveWIEECeeZdIBhxDRL0zAzjSu7evUvqVYQICmv0gTk9VS5XrFghc98PNTeChJAtEQWqK3zG3Fl0BJ1NXBM3blytdu3axu9AWCpBGVLyZfzO3k1/oXIvfK5cuUJb+L0ABLyLHz8+BDFtYR68aNEiug5BLM0gTIwC/jLhoY+IaAvnTQTUg8VXSBw/fpyCQeqjFZnzBlhvIThms2bN6P7Ar7/+StuQQAgbBb6PYVwJ6oPeYxcpU6YM03dDOT0C1Lf3BQ6PMPlVHDt2TO6Fj/I7CctpsmDBgmLcuHFCFyJkUQY6depEDtf4n6ElX8ZvhIpqaJ1B7zUF25YoUYLMcCGY9N49mQrDqTJFihR03oz59yIiyA4ePCj3BBVSLBwWEnpv752FxBDaWx+BifPnz9PvFi1alAp5tWrV5BXvMmbMGLn3Jm4aw9gBc1gTxPB7X1auXEl1ImnSpHSMEPyI1QUTfQiBZcuWkVOko88WqFu3Lm0RvywswdK8eXPDDBoMGTJE7vkp+gP3C3788UcalmIbUTAJjs9UqFCBrL2cwTyvAZ1qWOBazJGo68OaGNRHMXQNzCDNNG7cWKtUqRLN5YQ3vNYrEX1HunTpaNujRw95hmE8iz6SMOrB6dOnZW7kMat5VdJHCqEmTLqbgRkyPhOaOhpAfazmXgcPHixz/Re/WE64f//+onfv3rSP+DzmcArh0aRJE1IjweN29OjR4vPPPxeffPKJPBs66P0ob+BSpUqJ9evX035I9OvXT+jCjhylsCoenDWxMNHOnTtJTaUcErE+DJyqkLAWhboX9MI+/PBD2sd6EbgO6gZ4A6OHhcgCyFPglTs6lUEtgc/AWRQ9RHgEI5wLwsbA6RPLMP/nP/+haM8M4yoQ9eKbb76hfUSXUHG73gdoGuBND0dFOECiLqM+YGtWtwFEUsZoRoFgtIULF6YFvkJbFXb37t2kBgNQT6u1mfwWCBVfBv4c6IHgr2LE4SyYWKxevXqwHg4sOuA7AusUTNQdPHiQJtoxIQhnLfR21CgHKSwz5rNnzxr3p5L6HZXM5+DgqKzDVHK83jGFZEWza9cussIxf094Cd8Fc2aGcRWDBg2ishYzZkyZYx0wtMF3N2/eXHvy5AmN6F+8eEFbjPxVniOwzOzSpYs8ehezJSUs2fwdnx+pYD4DkUPRe4DuU4UocQY8IsTrmjhxIq1IB/QGlraOoCevCxeas2jVqhXlIehcWCssYoQS2rwGekh16tShiT+MfGAggFEEel4Y/WDUogsmcfHixWBxwzAng/AxuhCimGMhgf+FOEsYiSEQJ0Y5WLEOczRqpIJQNDA0wBo0mKvJmjWr/DTDWA/i5GGuEuFTwoq5FVlUcxda/Q0NfC60z2AEg1VbAeoIDANSpUpFdRDtj2MTi++BUY2v4hfqr7AKhDPgezAcxqTctm3bKNYXhAEKT8WKFUW5cuVIXaZ+q2vXrmTVFd6SovheqMsg8CCAEP8LS6wCTMqHde/q9UEIwAoN94KhvbKcicj/Nj8f9X2OWPH8GCY80Dijka5fv76YPn26zLU/iB32+++/035E6gqCWPpq8Fa/ECquQD02CABlqeVYmMyNNcMwYYMVGtXcHwK0tmvXjva9AdT1BQsWiMDAQLIkU6tNhgY6obA880VYqDAMYwuuXbtmmOdPmjSJluj1NszNKcz/YSTg2MSiowk/s9SpU8sc34KFCsMwtgHqYlhkbdiwgfzCGO+DhQrDMLZBLdDlyxPZvg4LFYZhGMYybClUYNKKNap37dpFS99imds0adLIswzDMIxdsV3sL5jswtYbprnwC4ElxaNHj+RZhmEYxs7YbqSCcCOPHz+mfThBIRIwm+UyDMN4B7YaqQQFBRkCBQ6Dbdu2ZYHCMAzjRdhqpIIgh+p2Ll++TEEOGYZhGO/BNiMVRBFWAgUhD9wlUBAehdcTYZjwQdRsxInDwnQMExq2GKnA2it58uTy6M2iUWq1RVcyZcoU0ahRI9GhQwcxbNgwmcswjBnElYM6etSoUTJHiHnz5oW5CBzjv9hipIICqkBkX3cIFKz8BoGCoI+IKswwTMjAWAYxrdD/VClv3rzyLMMEx+MjFYRkwCJT6jawXK9a+tNVYBlRLBVavnx5sWLFClsbAzRt2pS8jBFy34o1uxnGGSBMHAM7jh8/XjRr1kweMUxwPD5S+frrrw2BAmsvVwoUCCyouSBQcuTIQbphu1uXIQQ4dNndunWTOQzjHhCCHuubmGndujULFCZsMFJxNXpDrmXPnl0evWXgwIGQJpQKFiyo3bx5U56xHnx3rVq1aPXC/Pnzu/S3rAbrXuMZjRw5UuYwTOTBKocRoVGjRkb9RCpUqJB26dIledZ7+fvvv+Ue4wrcIlT++OMPKpTz5s2TORotS4sGXhXYtWvXyjPWc+/ePVoCGL/zww8/hLhkqN3RRyz0vPTRlcxxPwcOHJB7YXPhwgW5x9iNly9fUjnCEtlh0bt3b6NuqrR8+XJ51nWgniK5ipUrV9L/10f+MoexGrcIlQcPHlChLFKkCB2fOnVKixYtmlFY0RN3Fa9evdIqVqxIv1OlShXt+fPn8ox3gd5VvHjxqEJgXXx3A6GP344fP742btw4mRscVNjSpUtrDRs2lDmMHWnSpAnVh9A6cocPHzbqpkoYtbia2bNnG7+HteNdAb63adOm9BtYD5+xHrcIFTBlyhR6kZMmTdJy5cplFJ7vv/9eXuEaVAH68ssvtbt378pc72TZsmX0X4oXL06C2t2gsenUqRMJlz59+sjcN3To0IHyu3btqj18+FDmMnZk7969VI7Q2QqJ1KlTG/UTCZ1BV4/uoVZD+cHv9e/fX+a6BvxW+fLl6fd4xGI9bhMqt27dogKTIkUKo7CiV+vKuQ0IMPxOsmTJtBMnTshc76ZXr170n1wtjEMDjcuPP/5I94Dni+cKIYfjxYsXe6Vq0R9B+cE7QyfBTPfu3SnfnJYuXSrPuoY7d+5o5cqVo9+CetodQCVepkwZ+s0uXbrIXPfx+vVrUmlDYzNt2jSZ+y6XL1+mkf/27dtljv1xm1AB06dPNwoqVF6u7NHiRamez44dO2Su94NGu3LlyvS/Ro8eLXPdC+4hX7589HzVM16yZIk8y3gDUEHHjh2bOlxHjx6lPHP9VCkgIIDOuRI0rvitLFmyaI8ePZK5rgcNNp4Bfvunn36Sue4BglQ9Y9Qhx5E/mDp1qpY1a1a6ZtWqVTLX/rhVqIA1a9ZomzZtkkeuYevWrUZjFxQUJHN9B4wOVGHE8/QEyvgCCc+b8T7UqBdzjdu2bTPqjEqwknz8+LG82jVAW6F+79ChQzLXfaxbt06LHj06/XeMvN0J/u8vv/xi/P/OnTvLM5rWunVr432MGTNG5noHbhcqrubcuXPGy+jXr5/M9T1WrFhB/xH674iaiFrF8ePHtZQpUxqVAabajPdhHvWmS5fOeJ8q3b59W17pGjBRrn4L83WeAoYnuAe0G2PHjpW57mPGjBnGc6hUqZJWs2ZN2sdUgTdqWXxKqFy7dk0rUaIEvRAMqb3JFyUyYMiM/5o0adIQ/+usWbPIYsxKjh07psWJE4d+FyOUOnXq0D78kM6ePSuvYrwFNWlvTni/ETUfjyxt27Y1On+//fabzPUc8+fPp3vBPXlClWse+SNFiRLFazUAPiNUYDqsJHyCBAm0J0+eyDO+jfInaNOmjcx5C1RjOLd582aZ835AaCRMmJC+c8uWLZSH3i707sgrWbIk6akZ7wIqIDW3kDt3bpcbtbRv355+C2nUqFEy1/MEBgbSPUGwQBPgblq0aGE8FySYcXtyBBdZfEaooFFVL8OXJubDAxObSZIkof89Z84cmfsGNPDIt0INCP+eRIkS0feFNCemJlthqsl4H1euXNEOHjyoPXv2TOa4hgEDBlA5QbKjn8iIESPo3iBYXG31ZgZGN+q55M2b19hHJw7qMW/qJHuVUIFNOYaJjvz666/GS/BHKyQ4HeK/Y34FpttmUqVKpZUtW1YeRR7ViwrNYQ4jFqWOmzhxosxlmLfMnDnTUHl5wow3omDCHPeIe4VDpqvp2LGj8VzGjx9PdcncpuEc1MvKSs/ueI1QWb9+PT3g4cOHy5w3wLtcvZDQPL39AWXJg56gGViRIP99VBoYAeE7oLYIC+jnoXrE+4CzK8MozCb+1apVo4bTruDe4MyLe8U9Qxi6ismTJ9PvICFGopm//vrLiAai7sUb6pXXCBVlenf+/HmZE9zSy989Y5WqC88DcdUUCxYsoHxH1VhEQU8N35kjR44IDcExf6PugyfuGYD5N1VP8+TJY2uBosA9wrNflWUYvVgN1FrqufTo0UPmBgf3gZEMrlH3gpGUq8LYWIHXCBWYreKhwhMV4KFmypSJ8qDH94aC6mp+/vlneh49e/aUOZp2/fp1ysuWLZvMcQ700kqVKqXdv39f5oTP7t27tQkTJsgjxp9BZ0c1nCiD3hZsVGkA8B+sDHoLZ0b1XBDaKCwhgbZtw4YNVA9xPRK87E+fPi2vsBdeI1RgYoeYYQAPuV27dvRwYbWCyKvMG/8RVegwdFYoB7PIVmgW2ExkQIcmc+bMRpn0xlBJaFsqVKhA9w8hEFZIlY0bN2qrV6+WR6GDSONKoEA4RLTDBiECjYx6nhj12dE6zCuECkwe8RCHDh1Kx2bTO8y1MG9RViSwGlHxgqCrRR7PczDupEGDBkY99eaoC1CzYy0Z/A8Ig9CsKWEog/PhoZw+EZbGWV86dPDM61DFihVL27NnjzxrD7xCqChrDFh2YaEq9UAdg+Exb1Dm1Sjg8N9RIxgMnxnGHSCWlqqnrpiPcDeYy1WLlqFewfTYESw0iPMRiYYOH7L3iTSOuGDq+UITYSdsL1Sga1QPzxwPB+EUWC0TMgjtrZ6ZclLMmTMnHXtiLRbGv0CDqepp8+bNZa73A1VY8uTJ6X/h/znGFcQIBufmzp0rc1yLMl6y24qwthcq0GHiwdWtW5e2SFgjxZEzZ85Q6HVIcObtUrBKiKgC6KnIxoz3g8lls/VlSEBVpCaU06ZN63OrgGKxPNUOQbCY54n2799P+ZiDcRd27FjbXqiotTpQoBFNFPtm09aLFy+SIxVesErmSWp/BVY35vXEEQ4Dz85OYTEY7wFqVNStsNY7Qb1Ua5QgoaPniyifOaQCBQoYE+2wTFX5V69epTx/JIr+AGzLxo0bxaZNm0SWLFnE559/Lp4/fy50ySxixYoldu/eLdq1ayf03pAYMmQIhCOlNGnSCP1Fy2/wX1KmTClSpUoljwQ9N/OWYZwhSpQoVL+iRYsmc95lzJgxYt26dbQ/bdo0kSFDBtr3NfSRmBg6dCjt79mzx9jHM6pSpQrtr169mrb+CJkqyH3bUbt2bTF37lzRr18/kTp1avHy5Utx7949EjT6yIUKuSJPnjyie/fuonr16kLvUclc30YfiVBBTpo0qTh69Kh4/PgxHd+8eVM8ffpUXLt2TRw5ckToIzehD9vpeQUFBYkaNWrIb2CYiIHOSNSoUUW3bt3EwIEDZe5b5syZI+rWrUtlDJ29kSNHyjO+S69evcSAAQNof+zYsaJFixZi1qxZol69eqJQoUJix44ddM7vgFCxK0WLFqWhpFm1hYQ8lXANnJLsqFt0JSrsRXjJ/Kz0EZ38NMM4ByapUYZCitll9piH+kvv0Mgzvg3mixBpAv8b/x+e71D5qfpmjmzhT9ha/TV48GBRv3596olHjx6dekFIxYoVEz179qSh5+bNm4VekP1mdKLQC6/xPEJKyZMnF+XKlROdOnUSS5YsoZ5m586d5acZxjlev34dbKs4dOgQqaZR5kDv3r1FzJgxad/XgaodmhSA/z98+HDx6NEj8dlnn1He+vXraetv2Fr9Bcy3p+YDoOIB/iZIzDx79kysWbOGnsUnn3wi7t+/L+LGjUvPJH78+CJx4sTySv9+Tow1QJ0aO3Zs0bZtWxEQEEB5ULc2bNhQzJ8/n44DAwNFmzZtaN+fgKqvQ4cOIn369OLgwYNiypQppALMlCmTOHXqlLzKf7C9UGEYxvM8ePCAOiuYN8D8wfHjx0WPHj3EokWL6Pz3339PE/X+CuYxY8SIIeLFiyf27t1rGAtBm5I/f37a9xdsrf5iGMYeKLUXjGVA165dDYGCienRo0fTvr8CFT0ECoAQUZaXK1asoK0/wUKFYZhwUULlxYsXtK1UqRJta9asKaZPn84qVgcwzws2bNhAW3+ChQrDMOGihMqrV69o27hxY9qHCa0vCpRjx46RnxzmRM6dOyeuXr1KCb5yEeHf//43bfEd+Lw/wXMqDMOEy+XLl8lXDH5g8+bNk7m+ya1bt0SyZMnk0bukS5eOHDuh7sqaNSs9l4wZM4rs2bOT0zGcs0+ePEnnAHx4atWqRfv+AAsVhmHC5cKFC9SYVq5c2ZhLCQmMXiZOnEj7mLz3Rv773/+SgIgojiM1RABBpA8YN+zatUsULFhQ7Ny5U571fVioMAwTLvCLgols+fLlKZqFIw8fPiRVT//+/cniCSB8SceOHWnf24Bab9u2baT+gnCASTWA6b6z6iyY+uM7/AUWKgzDhAtGIHBABjAnho8KGlioxaDeUbGuzM3Jb7/9Jr799lt55H2E1jRev36d/jsE6cWLF8mcGGbEKjmCUQ/maPwFFioMw0QIRGQYNmzYO+qekJoQRLxo3769SJQokczxbdQzwBYx+eCcfP78eRI6FSpUEClSpKDz/gALFT8DJo7oVd69e5d6Wgix4a26b8a9wJy4VatWYtKkSTLnLZiorlatGoUogeMfQpiwmbF/YjuhgglBRCFWesuPPvqILCeUYxETOdBratSokfjzzz+D9SxR8SFU/N15jYkYKDvofd+4cYNUQDly5KA8xJoDLEgYjwuVJ0+eiLVr11JC+IfQQBj3sMz8mLBp0KABOakBhOXOlSsXeQH//PPPlLd48WLx9ddf0z7DMExk8ahQwYI+GE5jrQ+AW8GIBI5ViDMEFi5cSEHaELgOgdoY54HKq3Tp0vR8ly1bJr744gujRzlixAiKZIxjTMB+/PHHlM8wDBMpIFQ8werVq401GMqXL09rqGMtAqyLYl4bZevWrXQNEtYQYZxHH43Q89MFtMwJjloTYv78+TKHYRgmcngsTEvLli2p54xJ45UrV9KIBV6q6DGb9bKFCxc2nK2gomGcByaPmEhVS506ghU2gQphzjAME1k8JlQQkA4mh1hIyixEQgKhDwCWzGWc58qVKxReIzQguIE/r6vNMIw1eGxORQWow7rX4YFQB5hcRvgDNf/CRBz1ikMT3vCELlmypEiYMKG4c+eOzGUYhnEej41UIEwiIlDAjh07aKsCtDHO4ahSdEQ9X56kZxj3c+DAAbF06VKxfPlyMkrydmwd+h7OebBMwtKcAGaxjLUg0F337t1pH6v6Mb4JwqnAB4yxDwj3gvnMfPnyUaBOTAnkzZuX1rr3ZmzrUY/eM4SIUndNmDBBNG3alPYZa9i6dSt51KMI+FskVX8AvV4YwSBqMJxfQVBQkChSpAit4Ih4XojIe+/ePXJmhEc8ousyrgdrs3z11VdGrLCqVauKaNGiid9//520CgjKCWHjlUCo2AVdgGijRo3SdOltmBsjsamr9ejDbeMZ6wJFO3bsmDzDeDtjxozRYsaMSe/XXI+QVF5IqUCBAvIbGFfToUMHeh8ZM2bUdOFvuFIMHTqU8vVOtLzS+7CVUKlevToVbnMlQNJ7VtqGDRvkVcz7goKrnjMEysmTJ+UZxpuBn1enTp1CrEMRSZUqVZLfxLiSCxcuGM/csV2DMEG+NwsVW6m/pk6dGmqobL2iiDVr1hhrPzPOAyu68ePH03PGa8ezRtRZf4kk68vs27ePAjnivWL9joCAAArqiFUM4aeEZXCRoPLCFuovJKxaiAi66dOnJ7UY6hnjWrByZo0aNWitGdQ/MzD9X7BgAfnmYZ7FK4FQsRNPnjzRnj59Suns2bPanDlztKhRo5L0btCggbyKcYbLly9rffv2DdaDhZe9OXIB490gQoV6t0gpU6bUmjdvrq1cuVJ78eKFvEoz1CwqMe5HF/Jazpw5aWtmy5Yt9O4SJkyoPXr0SOZ6H7adqDeDCWSE1AaIsgufCiZ8Tp8+TUEkEd8LiyrhVZctW5acTrGCH3qxSZIkEYcPH6bgkrt376Y8BXqtmCz89NNPZQ5jZxBLb9SoURTfTYF3iHeMKNToBUeJYmuDT78BddE8KsToMVu2bBSdHdqEZs2ayTPeh1cIFYCGDY1fkyZNjDWwmXc5ceIEWXVB1YXnZH69WA4Wx1B3QF2ChYQiAtbRgGUKY3/wfm/fvi2OHDlCfg/KPBUNGJyHEQ2cLbzsB9wmAgMDRcWKFYN1CrwSCBVvoE2bNjQ01HtdModxpEWLFpreEyU1FxKe1/um3Llzy29nvA2ot+7du6dNnjzZeJ9lypTxatWKLzJlyhSqr1Dz+4IVpteMVJYsWWJMXGG5zlSpUtE+8xYYMaxfv14eCZqwhfoK4Vf0Boby8LoTJEhAahBM0uI8FlvKmTMnPVNM6qphObbIV8eM9wKvbYQ6wqizS5cuYvDgwfIM40ngNwQHSNRLjFAwUvF2vEao4IHD4xRg5Tk0iExw0HDAaxqrZeojDBEjRgx5JnRYYPgP06ZNo3WJADoZ/O49S9++fSmhCcYSzVhHyhfwmFDBKoPQ67dt21bUr1+fGsKwUKZ26dKlM5YaZhgm4pw6dYrmVQBCIH344Ye0z7gXGMNgIh4LEIKZM2eKunXr0r4v4BGhgki4iRMnpn3VW8JaH/nz5ydLFUwKI0WPHp16VOPGjaPJZwAfC44BxjDOw0LF88CAAmp8WGaCTZs2iWLFitG+r+CxkcqgQYNEt27d5NEbQhuOq1uEdIe5HcMwzjNr1ixRr1492sfSE2xe7D4ePHggxo4dS8Fb0Z7lypWLzP3z5Mkjr/AhIFQ8xY4dO7RWrVpp+qgFUiPUFC9ePC0wMJAcIxmGcZ4RI0YYFoE9e/aUuYyrgeNxQECAljRpUuP5N23alEK13L9/X3v27JmmC3h5tXPcvXtX7tkLj0/U4+fRazpz5gxNLMMXRam/kGCphElnnlRkGOeZO3eu6NOnD0X7Rl2DdRF0+VAtM64FkdXVchKOzaxjewYfMswXQ/2PZdUROil+/Pjy7BvwGYwuYf2KhfWgOrNj6Cqvsf5iGCbiIK4bwtojGoWq4hAuvXv35g6aG6hTpw4J9Mg2r2G9I/N3Io5YWEuFewIWKgzjY2ASOHPmzPJI0MQw5i+xZg7jHjD/i4gWHTp0ENmzZ6fRBzQvjjx9+pSCfMJwAq4SMGI6e/YsrW9jDpkE1Gq5COcCnzL4mNWqVUuetQ8sVBjGB/nuu+/EyZMnRcuWLUXNmjV5dOJm0KwiDFLMmDGdevbONMd2facsVBjGB1HVmoUJ425YqDAMwzCWwYbqDMMwjGWwUGEYhmEsg4UKwzAMYxksVBiGYRjLYKHCMAzDWAYLFYZhGMYyWKgwDMMwlsFChWEYhrEMFioMwzCMZbBQYRiGYSyDhQrDMAxjGSxUGIZhGMtgocIwDMNYBgsVhmEYxjJYqDAMwzCWwUKFYRiGsQwWKgzDMIxFCPF/Iqzdo9BCOncAAAAASUVORK5CYII=)"
      ],
      "metadata": {
        "id": "-RgCquxNS2RC"
      }
    },
    {
      "cell_type": "code",
      "source": [
        "# saklambaç oynamak istememe olasılığı\n",
        "payda = ((5/12)*(2/5)+(7/12)*(2/7))\n",
        "\n",
        "# saklanbaç oynamak istemeyip kız olma olasılığı\n",
        "pay = ((7/12)*(2/7))\n",
        "\n",
        "p = pay/payda\n",
        "print(\"saklambaç oynamak istemediği bilindiğine göre bu çocuğun kız olma olasılığı = \" + str(p))"
      ],
      "metadata": {
        "id": "vT6XGTdvRWjz",
        "colab": {
          "base_uri": "https://localhost:8080/"
        },
        "outputId": "92e75390-9c24-4502-b11a-d217d0dc3869"
      },
      "execution_count": 6,
      "outputs": [
        {
          "output_type": "stream",
          "name": "stdout",
          "text": [
            "saklambaç oynamak istemediği bilindiğine göre bu çocuğun kız olma olasılığı = 0.49999999999999994\n"
          ]
        }
      ]
    }
  ]
}