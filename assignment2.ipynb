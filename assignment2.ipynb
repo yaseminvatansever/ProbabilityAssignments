{
  "nbformat": 4,
  "nbformat_minor": 0,
  "metadata": {
    "colab": {
      "name": "Assignment2.ipynb",
      "provenance": [],
      "collapsed_sections": [],
      "authorship_tag": "ABX9TyNJZVMdywHtc5rtal7H1rYK",
      "include_colab_link": true
    },
    "kernelspec": {
      "name": "python3",
      "display_name": "Python 3"
    },
    "language_info": {
      "name": "python"
    }
  },
  "cells": [
    {
      "cell_type": "markdown",
      "metadata": {
        "id": "view-in-github",
        "colab_type": "text"
      },
      "source": [
        "<a href=\"https://colab.research.google.com/github/yaseminvatansever/ProbabilityAssignments/blob/main/Assignment2.ipynb\" target=\"_parent\"><img src=\"https://colab.research.google.com/assets/colab-badge.svg\" alt=\"Open In Colab\"/></a>"
      ]
    },
    {
      "cell_type": "markdown",
      "source": [
        "## Örnek Uzay (S)\n",
        "\n",
        "- Bir deneyin sonucunda elde edilebilecek sonuçların kümesidir. \n",
        "- Bir olayın sonucu olarak oluşması mümkün olan tüm sonuçlarının kümesidir.\n",
        "\n",
        "## Olay Uzayı (E)\n",
        "\n",
        "- Örnek uzayın alt kümesidir.\n",
        "\n",
        "## Olasılık (P)\n",
        "\n",
        "- Olasılık = (istenen durumların sayısı) / (tüm durumların sayısı)\n",
        "- 0-1 arasındadır."
      ],
      "metadata": {
        "id": "oesAFdZGxt0l"
      }
    },
    {
      "cell_type": "markdown",
      "source": [
        "## Olasılık: Permütasyon\n",
        "\n",
        "**Soru:** 3 kız ve 4 erkeğin yuvarlak bir masa etrafında kızlar bir arada olacak şekilde oturma olasılığı nedir?\n",
        "\n",
        "* Örnek uzay = (7-1)! = 720\n",
        "* 3 kız 1 kişi olarak alınır. Buna göre 5 kişinin dönel sıralaması = (5-1)!\n",
        "* Kızlar kendi aralarında = 3!\n",
        "* P(A) = ((5-1)!*3!)/(7-1)! = 24*6/720 = 0.2"
      ],
      "metadata": {
        "id": "ubhDH3Oh7wQb"
      }
    },
    {
      "cell_type": "code",
      "source": [
        "import math\n",
        "sample_space = math.factorial(7-1)  # (7-1)!\n",
        "p =  (math.factorial((5-1))* math.factorial(3))/sample_space\n",
        "print(\"3 kız ve 4 erkeğin yuvarlak bir masa etrafında kızlar bir arada olacak şekilde oturma olasılığı = \" + str(p))\n"
      ],
      "metadata": {
        "id": "cTk9rPUj7qVU",
        "colab": {
          "base_uri": "https://localhost:8080/"
        },
        "outputId": "6af3d692-733d-4cb4-80d6-2ce2ce25a645"
      },
      "execution_count": null,
      "outputs": [
        {
          "output_type": "stream",
          "name": "stdout",
          "text": [
            "3 kız ve 4 erkeğin yuvarlak bir masa etrafında kızlar bir arada olacak şekilde oturma olasılığı = 0.2\n"
          ]
        }
      ]
    },
    {
      "cell_type": "markdown",
      "source": [
        "## Olasılık: Combinasyon\n",
        "\n",
        "**Soru2:** İçinde 3 beyaz, 6 yeşil top bulunan bir torbadan rastgele seçilen 3 toptan ikisinin aynı diğerinin farklı renkte olma olasılığı kaçtır ?\n",
        "\n",
        "* Örnek uzay = C(9,3) = 84\n",
        "* 3 beyaz, 6 yeşil toptan 2 beyaz 1 yeşil top = C(3,2).C(6,1)=18\n",
        "* 1 beyaz 2 yeşit top = C(3,1).C(6,2)=45\n",
        "* seçilen üç toptan ikisinin aynı birinin farklı olma olasılığı = P(A)=(18+45)/84=3/4 bulunur."
      ],
      "metadata": {
        "id": "mvuO_DZw-D7P"
      }
    },
    {
      "cell_type": "code",
      "source": [
        "import itertools\n",
        "y_toplar = [\"y\", \"y\", \"y\", \"y\", \"y\", \"y\"]\n",
        "b_toplar = [\"b\",\"b\",\"b\"]\n",
        "toplar = y_toplar + b_toplar\n",
        "\n",
        "sample_space = itertools.combinations(toplar,3)\n",
        "sample_space = list(sample_space)\n",
        "print(\"örnek uzay boyutu = \" + str(len(sample_space)))\n",
        "# list combinations\n",
        "for i in sample_space:\n",
        "    print(str(i))"
      ],
      "metadata": {
        "colab": {
          "base_uri": "https://localhost:8080/"
        },
        "id": "vvBb0yV_-U_E",
        "outputId": "ebd3a33d-98e4-4dd5-9301-e23d029b2742"
      },
      "execution_count": null,
      "outputs": [
        {
          "output_type": "stream",
          "name": "stdout",
          "text": [
            "örnek uzay boyutu = 84\n",
            "('y', 'y', 'y')\n",
            "('y', 'y', 'y')\n",
            "('y', 'y', 'y')\n",
            "('y', 'y', 'y')\n",
            "('y', 'y', 'b')\n",
            "('y', 'y', 'b')\n",
            "('y', 'y', 'b')\n",
            "('y', 'y', 'y')\n",
            "('y', 'y', 'y')\n",
            "('y', 'y', 'y')\n",
            "('y', 'y', 'b')\n",
            "('y', 'y', 'b')\n",
            "('y', 'y', 'b')\n",
            "('y', 'y', 'y')\n",
            "('y', 'y', 'y')\n",
            "('y', 'y', 'b')\n",
            "('y', 'y', 'b')\n",
            "('y', 'y', 'b')\n",
            "('y', 'y', 'y')\n",
            "('y', 'y', 'b')\n",
            "('y', 'y', 'b')\n",
            "('y', 'y', 'b')\n",
            "('y', 'y', 'b')\n",
            "('y', 'y', 'b')\n",
            "('y', 'y', 'b')\n",
            "('y', 'b', 'b')\n",
            "('y', 'b', 'b')\n",
            "('y', 'b', 'b')\n",
            "('y', 'y', 'y')\n",
            "('y', 'y', 'y')\n",
            "('y', 'y', 'y')\n",
            "('y', 'y', 'b')\n",
            "('y', 'y', 'b')\n",
            "('y', 'y', 'b')\n",
            "('y', 'y', 'y')\n",
            "('y', 'y', 'y')\n",
            "('y', 'y', 'b')\n",
            "('y', 'y', 'b')\n",
            "('y', 'y', 'b')\n",
            "('y', 'y', 'y')\n",
            "('y', 'y', 'b')\n",
            "('y', 'y', 'b')\n",
            "('y', 'y', 'b')\n",
            "('y', 'y', 'b')\n",
            "('y', 'y', 'b')\n",
            "('y', 'y', 'b')\n",
            "('y', 'b', 'b')\n",
            "('y', 'b', 'b')\n",
            "('y', 'b', 'b')\n",
            "('y', 'y', 'y')\n",
            "('y', 'y', 'y')\n",
            "('y', 'y', 'b')\n",
            "('y', 'y', 'b')\n",
            "('y', 'y', 'b')\n",
            "('y', 'y', 'y')\n",
            "('y', 'y', 'b')\n",
            "('y', 'y', 'b')\n",
            "('y', 'y', 'b')\n",
            "('y', 'y', 'b')\n",
            "('y', 'y', 'b')\n",
            "('y', 'y', 'b')\n",
            "('y', 'b', 'b')\n",
            "('y', 'b', 'b')\n",
            "('y', 'b', 'b')\n",
            "('y', 'y', 'y')\n",
            "('y', 'y', 'b')\n",
            "('y', 'y', 'b')\n",
            "('y', 'y', 'b')\n",
            "('y', 'y', 'b')\n",
            "('y', 'y', 'b')\n",
            "('y', 'y', 'b')\n",
            "('y', 'b', 'b')\n",
            "('y', 'b', 'b')\n",
            "('y', 'b', 'b')\n",
            "('y', 'y', 'b')\n",
            "('y', 'y', 'b')\n",
            "('y', 'y', 'b')\n",
            "('y', 'b', 'b')\n",
            "('y', 'b', 'b')\n",
            "('y', 'b', 'b')\n",
            "('y', 'b', 'b')\n",
            "('y', 'b', 'b')\n",
            "('y', 'b', 'b')\n",
            "('b', 'b', 'b')\n"
          ]
        }
      ]
    },
    {
      "cell_type": "code",
      "source": [
        "b2y1 = len(list(itertools.combinations(b_toplar,2))) * len(list(itertools.combinations(y_toplar,1)))\n",
        "print(\"2 beyaz 1 yeşil top = \" + str(b2y1))\n",
        "\n",
        "b1y2 = len(list(itertools.combinations(b_toplar,1))) * len(list(itertools.combinations(y_toplar,2)))\n",
        "print(\"1 beyaz 2 yeşil top = \" + str(b1y2))\n",
        "\n",
        "p = (b2y1 + b1y2) / len(sample_space)\n",
        "print(\"seçilen üç toptan ikisinin aynı birinin farklı olma olasılığı = \" + str(p))"
      ],
      "metadata": {
        "colab": {
          "base_uri": "https://localhost:8080/"
        },
        "id": "9DrLZxLCBXKm",
        "outputId": "4ddeac96-21fb-4c4a-e606-0ebf5d95198f"
      },
      "execution_count": null,
      "outputs": [
        {
          "output_type": "stream",
          "name": "stdout",
          "text": [
            "2 beyaz 1 yeşil top = 18\n",
            "1 beyaz 2 yeşil top = 45\n",
            "seçilen üç toptan ikisinin aynı birinin farklı olma olasılığı = 0.75\n"
          ]
        }
      ]
    }
  ]
}
