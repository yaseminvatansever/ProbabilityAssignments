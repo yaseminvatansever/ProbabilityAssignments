{
 "cells": [
  {
   "cell_type": "markdown",
   "metadata": {},
   "source": [
    "# Soru\n",
    "\n",
    "* Bir test sınavında 7 soru vardır. \n",
    "* Bu soruların her birinde 2 şık vardır. \n",
    "* Hiçbir soru boş bırakılmayacaktır. \n",
    "\n",
    "Bu sınavda en az 4 sınav kağıdının aynı olmasını garanti etmek için sınava girmesi gereken minimum öğrenci sayısı kaçtır?"
   ]
  },
  {
   "cell_type": "markdown",
   "metadata": {},
   "source": [
    "# Çözüm\n",
    "\n",
    "* Toplam kaç farklı cevap olabilir? -> 2.2.2.2.2.2.2 = 2^7\n",
    "* En az 4 sınav kağıdının aynı olamsı için -> en kötü ihtimalle 128+128+128 öğrenci girer ise 3 sınav kağıdının aynı olması garantilenir.\n",
    "* 128 + 128 + 128 + 1 ile 4 sınav kağıdının aynı olması garantilenir."
   ]
  },
  {
   "cell_type": "code",
   "execution_count": 10,
   "metadata": {},
   "outputs": [
    {
     "name": "stdout",
     "output_type": "stream",
     "text": [
      "farklı cevap sayısı: 128\n"
     ]
    }
   ],
   "source": [
    "num_of_questions = 7\n",
    "option = 2\n",
    "num_of_identical_paper = 4\n",
    "\n",
    "num_of_diff_answers = pow(option,num_of_questions)\n",
    "print(\"farklı cevap sayısı: \" + str(num_of_diff_answers))"
   ]
  },
  {
   "cell_type": "code",
   "execution_count": 12,
   "metadata": {},
   "outputs": [
    {
     "name": "stdout",
     "output_type": "stream",
     "text": [
      "Sınava girmesi geren minimum öğrenci sayısı: 385\n"
     ]
    }
   ],
   "source": [
    "num_of_students = num_of_diff_answers*(num_of_identical_paper-1) + 1\n",
    "print(\"Sınava girmesi geren minimum öğrenci sayısı: \" + str(num_of_students))"
   ]
  },
  {
   "cell_type": "markdown",
   "metadata": {},
   "source": [
    "# Kaynaklar:\n",
    "\n",
    "* https://www.youtube.com/watch?v=7RNORnQL304\n",
    "\n",
    "* https://tr.wikipedia.org/wiki/G%C3%BCvercin_deli%C4%9Fi_ilkesi#:~:text=Bu%20ilke%20tam%20olarak%20%C5%9Funu,en%20fazla%20k%20nesne%20olabilecekti."
   ]
  }
 ],
 "metadata": {
  "interpreter": {
   "hash": "79aef8a0412c070c4a9ac8ca62c344059f8c43fdc1375a63b1cceaefa130f451"
  },
  "kernelspec": {
   "display_name": "Python 3.9.7 64-bit",
   "language": "python",
   "name": "python3"
  },
  "language_info": {
   "codemirror_mode": {
    "name": "ipython",
    "version": 3
   },
   "file_extension": ".py",
   "mimetype": "text/x-python",
   "name": "python",
   "nbconvert_exporter": "python",
   "pygments_lexer": "ipython3",
   "version": "3.9.7"
  },
  "orig_nbformat": 4
 },
 "nbformat": 4,
 "nbformat_minor": 2
}
